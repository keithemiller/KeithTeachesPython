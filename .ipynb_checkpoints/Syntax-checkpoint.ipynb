{
 "cells": [
  {
   "cell_type": "markdown",
   "metadata": {},
   "source": [
    "# Syntax Reference"
   ]
  },
  {
   "cell_type": "markdown",
   "metadata": {},
   "source": [
    "This IPython notebook will serve as a reference for Python syntax. Each of the input boxes can be run by clicking on them and then using \"Shift+Enter\" or using the run-cell button. Note that some inputs may not have an output (Example: the variables section) and may need to be run in order to get the correct results at later cells.\n",
    "\n",
    "In order to gain confidence with Python, go through each of the cells and write in your own example of how you think the concept would work. If everything works as expected, then keep moving otherwise bring up the problem for discussion. "
   ]
  },
  {
   "cell_type": "markdown",
   "metadata": {},
   "source": [
    "## Variables\n",
    "In Python variables are dynamically typed. This means that Python will do type checking at run-time instead of compile-time."
   ]
  },
  {
   "cell_type": "code",
   "execution_count": null,
   "metadata": {
    "collapsed": false
   },
   "outputs": [],
   "source": [
    "# <-- Starts a comment\n",
    "\"\"\" <-- Starts a \n",
    "        multi-line \n",
    "        comment\n",
    "        \n",
    "Finishes the comment -->\"\"\"\n",
    "\n",
    "# Strings\n",
    "name = \"Slim Shady\"\n",
    "still_a_string = 'single quotes'\n",
    "string_x = \"5\"\n",
    "\n",
    "# Integers\n",
    "x = 5\n",
    "someInt = 9\n",
    "\n",
    "# Floats\n",
    "float_x = 5.5\n",
    "z = 10.3\n",
    "\n",
    "# Booleans\n",
    "truth = True\n",
    "really = False"
   ]
  },
  {
   "cell_type": "markdown",
   "metadata": {},
   "source": [
    "## Print Statements\n",
    "The following are some examples of print statements in Python. Note that like Java's \"System.out.println\", print ends the line and the next print statement will start on the next line."
   ]
  },
  {
   "cell_type": "code",
   "execution_count": null,
   "metadata": {
    "collapsed": false
   },
   "outputs": [],
   "source": [
    "## Some print statements\n",
    "\n",
    "print name\n",
    "print still_a_string\n",
    "\n",
    "## Print multiplication 'string*int' vs. 'int*int'\n",
    "print name * 5\n",
    "print 5 * 5\n",
    "\n",
    "## Print statements using 'comma' vs '+' \n",
    "# CAN YOU FIND THE DIFFERENCE IN THE OUTPUT?\n",
    "print \"My name is\", name\n",
    "print \"My name is\" + name\n",
    "\n",
    "## Inserting name into the middle of a string using %s\n",
    "print \"My name is %s. Hi! My name is (huh?)\" % name\n",
    "## Inserting a number into the middle of a string using %d\n",
    "print \"My favorite number is %d. Not really\" % x\n",
    "## Inserting a float into the middle of a string using %f\n",
    "print \"OMG, %f is a float in a sentence\" % float_x"
   ]
  },
  {
   "cell_type": "markdown",
   "metadata": {},
   "source": [
    "## Arithmetic"
   ]
  },
  {
   "cell_type": "code",
   "execution_count": null,
   "metadata": {
    "collapsed": false
   },
   "outputs": [],
   "source": [
    "## Basic Arithmetic\n",
    "# Addition\n",
    "print \"Addition\", 4 + 29\n",
    "\n",
    "# Subtraction\n",
    "print \"Subtraction\", 29 - 4\n",
    "\n",
    "# Multiplication\n",
    "print \"Multiplication\", x * 5\n",
    "\n",
    "# Division (1st integer, 2nd float)\n",
    "print \"Int Division\", someInt / x\n",
    "print \"Float Division\", someInt / float(x)\n",
    "\n",
    "# Exponents\n",
    "print \"Exponents\", 2 ** 5\n",
    "\n",
    "# Modulo (remainder)\n",
    "print \"Modulo\", 13 % 10"
   ]
  },
  {
   "cell_type": "code",
   "execution_count": null,
   "metadata": {
    "collapsed": false
   },
   "outputs": [],
   "source": [
    "## Details and Comparisons\n",
    "# NOTE: Python does not have a ++ or -- operator\n",
    "x = 1\n",
    "print \"Initial:\", x\n",
    "x += 2\n",
    "print \"After +=:\", x\n",
    "x *= 2\n",
    "print \"After *=:\", x\n",
    "# The rest you can extrapolate\n",
    "\n",
    "# Basic comparisons and boolean operators\n",
    "print \"Is X >= 2?\", x >= 2, \"\\tX Value:\",x \n",
    "print \"True and False?\", True and False\n",
    "print \"True or False?\", True or False\n",
    "print \"Not True?\", not True\n",
    "print \"X == 6\", x == 6\n",
    "print \"X is 6\", x is 6"
   ]
  },
  {
   "cell_type": "markdown",
   "metadata": {},
   "source": [
    "## Conditionals"
   ]
  },
  {
   "cell_type": "code",
   "execution_count": null,
   "metadata": {
    "collapsed": false
   },
   "outputs": [],
   "source": [
    "## if, elif, else\n",
    "# NOTE: EACH LAYER OF CONDITIONALS IS INDENTED FURTHER\n",
    "test = 3\n",
    "test2 = 5\n",
    "\n",
    "if test > 0:\n",
    "    print \"Passed test > 0\"\n",
    "    if test > test2:\n",
    "        print \"Passed test > test2\"\n",
    "else:\n",
    "    print \"Test is not greater than 0\"\n",
    "    \n",
    "    \n",
    "tests_passed = []\n",
    "if test <= 2:\n",
    "    tests_passed.append(\"a\")\n",
    "elif test <= 3:\n",
    "    tests_passed.append(\"b\")\n",
    "    if test == 3:\n",
    "        tests_passed.append(\"c\")\n",
    "    else:\n",
    "        test_passed.append(\"d\")\n",
    "else:\n",
    "    test_passed.append(\"e\")\n",
    "\n",
    "print tests_passed"
   ]
  },
  {
   "cell_type": "markdown",
   "metadata": {},
   "source": [
    "## Lists and Dictionaries"
   ]
  },
  {
   "cell_type": "code",
   "execution_count": null,
   "metadata": {
    "collapsed": false
   },
   "outputs": [],
   "source": [
    "## Lists (Accessing and Slicing is below dictionaries)\n",
    "# Empty List\n",
    "l = []\n",
    "print l\n",
    "\n",
    "# Adding elements to a list\n",
    "l.append(\"Monty\")\n",
    "l.append(\"Python\")\n",
    "print l\n",
    "\n",
    "# Removing an element\n",
    "last_item = l.pop()\n",
    "print l\n",
    "print last_item\n",
    "\n",
    "# Creating a list with stuff inside\n",
    "foods = [\"Sushi\", \"More Sushi\", \"Still Sushi\", \"Not Sushi\"]\n",
    "print foods\n",
    "\n",
    "# Lists can be of any object even of different types\n",
    "bunch_of_stuffs = [\"String\", 1, 3.14, [\"2nd String\"]]"
   ]
  },
  {
   "cell_type": "code",
   "execution_count": null,
   "metadata": {
    "collapsed": false
   },
   "outputs": [],
   "source": [
    "## Dictionaries are like lists but with Key-Value Pairs\n",
    "# Empty dictionary\n",
    "d = {}\n",
    "print d\n",
    "\n",
    "# Add an entry\n",
    "d[\"Today\"] = \"Thursday\"\n",
    "d[\"Bergeron's number\"] = 37\n",
    "print d\n",
    "\n",
    "# Deleting an entry\n",
    "del d[\"Today\"]\n",
    "print d\n",
    "\n",
    "# Creating a dictionary with stuff inside\n",
    "filled_dict = {'ECE232':\"Hardware\", \"ECE242\":\"Data Structures\", \"GPA\":3.7}\n",
    "print filled_dict"
   ]
  },
  {
   "cell_type": "code",
   "execution_count": null,
   "metadata": {
    "collapsed": false
   },
   "outputs": [],
   "source": [
    "## Access, slicing, and some basic methods\n",
    "\n",
    "# Accessing a list\n",
    "# Access list at index i (ELEMENTS START AT POSITION ZERO)\n",
    "i = 2\n",
    "print \"1st ITEM IN FOODS:\", foods[0]\n",
    "print \"3rd ITEM IN FOODS:\", foods[i]\n",
    "\n",
    "# Negatives start from the last element\n",
    "print \"Last ITEM IN FOODS:\", foods[-1]\n",
    "\n",
    "# Slicing gives a sub-list of the specified elements\n",
    "# NOTE: It goes up to the element before the upper bound not including it\n",
    "print \"SUBLIST OF ITEMS 0 AND 1 IN FOODS:\", foods[0:2]\n",
    "\n",
    "# Prints the length of the list or dictionary\n",
    "print \"Size of foods:\", len(foods)"
   ]
  },
  {
   "cell_type": "markdown",
   "metadata": {},
   "source": [
    "## Loops"
   ]
  },
  {
   "cell_type": "code",
   "execution_count": null,
   "metadata": {
    "collapsed": false
   },
   "outputs": [],
   "source": [
    "## For-Loops\n",
    "# NOTE: PAY VERY CLOSE ATTENTION TO INDENTATION\n",
    "# Python's For-Loops are For-Each loops that operate on list-like objects\n",
    "\n",
    "print \"FIRST FOR\"\n",
    "l =[\"I\", \"II\", 3, \"FOUR\", \"Cinq\"]\n",
    "for element in l:\n",
    "    print element\n",
    "\n",
    "print \"\\nSECOND FOR\"\n",
    "# Looping over a range\n",
    "for i in range(4):  # Java Equivalent: for(int i=0; i<4; i++)\n",
    "    print i\n",
    "    \n",
    "print \"\\nTHIRD FOR\"    \n",
    "for i in range(7, 9):  # Java Equivalent: for(int i=7; i<9; i++)\n",
    "    print i\n",
    "\n",
    "print \"\\nFOURTH FOR\"\n",
    "for i in range(10, 100, 10): # Java Equivalent: for(int i=10; i<100; i+=10)\n",
    "    print i"
   ]
  },
  {
   "cell_type": "code",
   "execution_count": null,
   "metadata": {
    "collapsed": false
   },
   "outputs": [],
   "source": [
    "# While loops work similarly but operate based on a conditional\n",
    "counter = 0\n",
    "while counter < 5:\n",
    "    print counter\n",
    "    counter += 1\n",
    "\n",
    "    \n",
    "while True:\n",
    "    counter += 1\n",
    "    if counter >= 10:\n",
    "        break   #Breaks out of while loop\n",
    "print \"POST-WHILE TRUE\", counter"
   ]
  },
  {
   "cell_type": "markdown",
   "metadata": {},
   "source": [
    "## Functions\n"
   ]
  },
  {
   "cell_type": "code",
   "execution_count": null,
   "metadata": {
    "collapsed": false
   },
   "outputs": [],
   "source": [
    "# Define  a funcion using def\n",
    "def add_function(arg1, arg2):\n",
    "    x = arg1 + arg2\n",
    "    return x\n",
    "\n",
    "# Call the add_function\n",
    "a = 3\n",
    "b = 8\n",
    "print add_function(a, b)"
   ]
  }
 ],
 "metadata": {
  "kernelspec": {
   "display_name": "Python 2",
   "language": "python",
   "name": "python2"
  },
  "language_info": {
   "codemirror_mode": {
    "name": "ipython",
    "version": 2
   },
   "file_extension": ".py",
   "mimetype": "text/x-python",
   "name": "python",
   "nbconvert_exporter": "python",
   "pygments_lexer": "ipython2",
   "version": "2.7.10"
  }
 },
 "nbformat": 4,
 "nbformat_minor": 0
}
